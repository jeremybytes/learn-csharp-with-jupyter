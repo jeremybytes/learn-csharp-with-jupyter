{
 "cells": [
  {
   "cell_type": "markdown",
   "metadata": {},
   "source": [
    "# Properties in C#\n",
    "\n",
    "A property is a member of a class that has accessors to read and write values (often referred to as \"getters\" and \"setters\"). When using a property, we can treat it like a data member, such as ```Console.WriteLine(person.FirstName)``` to read a ```FirstName``` property or ```person.FirstName = 'Jeremy'``` to set a property. In the background, an accessor is called to get or set the value. This gives us flexibility to write custom code for reading or writing properties. As an example, we can add some code to a setter to make sure that a value is in a particular range (or not empty).\n",
    "\n",
    "There are several different ways of declaring properties in C#. These range from automatic properties, properties with backing fields, expression-based properties, read-only properties, and properties that can only be set during initailization. In addition, we can have calculated properties that are based on other values in the class. Today, we will look at the different ways of declaring properties.  \n",
    "\n",
    "In the examples below, the following snippets of code are used.  \n",
    "\n",
    "This code uses a constructor with parameters that set the property values:  \n",
    "```c#\n",
    "// using constructor\n",
    "var p = new Person(\"Jeremy\", \"Clark\");\n",
    "Console.WriteLine($\"{p.GivenName} {p.FamilyName}\");\n",
    "```\n",
    "\n",
    "This code uses an object initializer to set property values:  \n",
    "```c#\n",
    "// using object initializer\n",
    "var p = new Person() { GivenName = \"Jeremy\", FamilyName = \"Clark\" };\n",
    "Console.WriteLine($\"{p.GivenName} {p.FamilyName}\");\n",
    "```\n",
    "\n",
    "This code modifies a property on an existing object:\n",
    "```c#\n",
    "// modifying a property\n",
    "p.GivenName = \"John\";\n",
    "Console.WriteLine($\"{p.GivenName} {p.FamilyName}\");\n",
    "```\n",
    "\n",
    "Based on the type of property, the code will either work or generate errors. Click through each section to see how each behaves."
   ]
  },
  {
   "cell_type": "markdown",
   "metadata": {},
   "source": [
    "### Automatic Property\n",
    "\n",
    "An automatic property (an automatically implemented proproperty or \"auto property) is one of the simplest ways of declaring a property. These use empty \"get\" and \"set\" statements. We can use this when we do not need any special processing, such as validation.\n",
    "\n",
    "In the following code, ```GivenName``` and ```FamilyName``` are automatic properties."
   ]
  },
  {
   "cell_type": "code",
   "execution_count": null,
   "metadata": {},
   "outputs": [],
   "source": [
    "public class Person\n",
    "{\n",
    "    public string GivenName { get; set; }\n",
    "    public string FamilyName { get; set; }\n",
    "    \n",
    "    public Person() {} // default constructor (no initialization)\n",
    "    \n",
    "    public Person(string givenName, string familyName)\n",
    "    {\n",
    "        GivenName = givenName;\n",
    "        FamilyName = familyName;\n",
    "    }\n",
    "}"
   ]
  },
  {
   "cell_type": "code",
   "execution_count": null,
   "metadata": {},
   "outputs": [],
   "source": [
    "// using constructor\n",
    "var p = new Person(\"Jeremy\", \"Clark\");\n",
    "Console.WriteLine($\"{p.GivenName} {p.FamilyName}\");"
   ]
  },
  {
   "cell_type": "code",
   "execution_count": null,
   "metadata": {},
   "outputs": [],
   "source": [
    "// using object initializer\n",
    "var p = new Person() { GivenName = \"Jeremy\", FamilyName = \"Clark\" };\n",
    "Console.WriteLine($\"{p.GivenName} {p.FamilyName}\");"
   ]
  },
  {
   "cell_type": "code",
   "execution_count": null,
   "metadata": {},
   "outputs": [],
   "source": [
    "// modifying a property\n",
    "p.GivenName = \"John\";\n",
    "Console.WriteLine($\"{p.GivenName} {p.FamilyName}\");"
   ]
  },
  {
   "cell_type": "markdown",
   "metadata": {},
   "source": [
    "### Read-only Property - No Setter\n",
    "\n",
    "We can create a read-only property by not including a \"set\" for the property. In this case, the property can **only** be set inside the constructor of the class. If we try to set the value outside of the constructor, we will get an error.  \n",
    "\n",
    "In the following code, ```GivenName``` and ```FamilyName``` are read-only properties."
   ]
  },
  {
   "cell_type": "code",
   "execution_count": null,
   "metadata": {},
   "outputs": [],
   "source": [
    "public class Person\n",
    "{\n",
    "    public string GivenName { get; }\n",
    "    public string FamilyName { get; }\n",
    "    \n",
    "    public Person() {} // default constructor (no initialization)\n",
    "    \n",
    "    public Person(string givenName, string familyName)\n",
    "    {\n",
    "        GivenName = givenName;\n",
    "        FamilyName = familyName;\n",
    "    }\n",
    "}"
   ]
  },
  {
   "cell_type": "code",
   "execution_count": null,
   "metadata": {},
   "outputs": [],
   "source": [
    "// using constructor\n",
    "var p = new Person(\"Jeremy\", \"Clark\");\n",
    "Console.WriteLine($\"{p.GivenName} {p.FamilyName}\");"
   ]
  },
  {
   "cell_type": "code",
   "execution_count": null,
   "metadata": {},
   "outputs": [],
   "source": [
    "// using object initializer\n",
    "var p = new Person() { GivenName = \"Jeremy\", FamilyName = \"Clark\" };\n",
    "Console.WriteLine($\"{p.GivenName} {p.FamilyName}\");"
   ]
  },
  {
   "cell_type": "code",
   "execution_count": null,
   "metadata": {},
   "outputs": [],
   "source": [
    "// modifying a property\n",
    "p.GivenName = \"John\";\n",
    "Console.WriteLine($\"{p.GivenName} {p.FamilyName}\");"
   ]
  },
  {
   "cell_type": "markdown",
   "metadata": {},
   "source": [
    "### Read-only Property - Private Setter\n",
    "\n",
    "As an alternative to having a property without a \"set\", we can have a property with a private \"set\". The property can be set within the class itself (such as inside a constructor or a class method), but it cannot be set externally.\n",
    "\n",
    "In the following code, ```GivenName``` and ```FamilyName``` have private setters."
   ]
  },
  {
   "cell_type": "code",
   "execution_count": null,
   "metadata": {},
   "outputs": [],
   "source": [
    "public class Person\n",
    "{\n",
    "    public string GivenName { get; private set; }\n",
    "    public string FamilyName { get; private set; }\n",
    "    \n",
    "    public Person() {} // default constructor (no initialization)\n",
    "    \n",
    "    public Person(string givenName, string familyName)\n",
    "    {\n",
    "        GivenName = givenName;\n",
    "        FamilyName = familyName;\n",
    "    }\n",
    "}"
   ]
  },
  {
   "cell_type": "code",
   "execution_count": null,
   "metadata": {},
   "outputs": [],
   "source": [
    "// using constructor\n",
    "var p = new Person(\"Jeremy\", \"Clark\");\n",
    "Console.WriteLine($\"{p.GivenName} {p.FamilyName}\");"
   ]
  },
  {
   "cell_type": "code",
   "execution_count": null,
   "metadata": {},
   "outputs": [],
   "source": [
    "// using object initializer\n",
    "var p = new Person() { GivenName = \"Jeremy\", FamilyName = \"Clark\" };\n",
    "Console.WriteLine($\"{p.GivenName} {p.FamilyName}\");"
   ]
  },
  {
   "cell_type": "code",
   "execution_count": null,
   "metadata": {},
   "outputs": [],
   "source": [
    "// modifying a property\n",
    "p.GivenName = \"John\";\n",
    "Console.WriteLine($\"{p.GivenName} {p.FamilyName}\");"
   ]
  },
  {
   "cell_type": "markdown",
   "metadata": {},
   "source": [
    "### Init-Only Property\n",
    "\n",
    "Init-only properties are a variation of read-only properties. Instead of having a \"set\", they have an \"init\". This indicates that the property can be set during the initialization process of a class. This includes the constructor (like the read-only properties that we saw above), but it also includes using an object initializer.\n",
    "\n",
    "An object initializer is where we set properties inside braces after creating an instance of a class.\n",
    "\n",
    "Example:\n",
    "```c#\n",
    "  var p = new Person() { FamilyName = \"Jeremy\", GivenName = \"Clark\" };\n",
    "```\n",
    "\n",
    "As we've seen in earlier examples, object initializers do not work with read-only properties (that only have a getter) or with properties that have private setters. However, object initializers **do** work with \"init\" properties.\n",
    "\n",
    "In the following code, ```GivenName``` and ```FamilyName``` are init-only properties."
   ]
  },
  {
   "cell_type": "code",
   "execution_count": null,
   "metadata": {},
   "outputs": [],
   "source": [
    "public class Person\n",
    "{\n",
    "    public string GivenName { get; init; }\n",
    "    public string FamilyName { get; init; }\n",
    "\n",
    "    public Person() {} // default constructor (no initialization)\n",
    "    \n",
    "    public Person(string givenName, string familyName)\n",
    "    {\n",
    "        GivenName = givenName;\n",
    "        FamilyName = familyName;\n",
    "    }\n",
    "}"
   ]
  },
  {
   "cell_type": "code",
   "execution_count": null,
   "metadata": {},
   "outputs": [],
   "source": [
    "// using constructor\n",
    "var p = new Person(\"Jeremy\", \"Clark\");\n",
    "Console.WriteLine($\"{p.GivenName} {p.FamilyName}\");"
   ]
  },
  {
   "cell_type": "code",
   "execution_count": null,
   "metadata": {},
   "outputs": [],
   "source": [
    "// using object initializer\n",
    "p = new Person() { GivenName = \"Jeremy\", FamilyName = \"Clark\" };\n",
    "Console.WriteLine($\"{p.GivenName} {p.FamilyName}\");"
   ]
  },
  {
   "cell_type": "code",
   "execution_count": null,
   "metadata": {},
   "outputs": [],
   "source": [
    "// modifying a property\n",
    "p.GivenName = \"John\";\n",
    "Console.WriteLine($\"{p.GivenName} {p.FamilyName}\");"
   ]
  },
  {
   "cell_type": "markdown",
   "metadata": {},
   "source": [
    "### Property with Backing Field (Full Property)\n",
    "\n",
    "As mentioned earlier, properties have accessors (getters and setters) that allow us to do custom code. For this custom code, the \"get\" and \"set\" statements contain code blocks. A common way of implementing a property is to have a private field to hold the value (a backing field).\n",
    "\n",
    "Here is an example:\n",
    "```c#\n",
    "  private string givenName;\n",
    "  public string GivenName\n",
    "  {\n",
    "      get { return givenName; }\n",
    "      set { givenName = value; }\n",
    "  }\n",
    "```\n",
    "\n",
    "The \"get\" returns the value that is in the ```givenName``` private field. The \"set\" will set the ```givenName``` field to the incoming value. The ```value``` keyword indicates the incoming value (i.e., the right-hand side of an assignment).\n",
    "\n",
    "The above code has the same behavior as an automatic property, so the shorter syntax is often used. But we can have custom code in the getters and setters as well. For example, we can use the setter to make sure that an incoming value is not blank.\n",
    "\n",
    "```c#\n",
    "  private string givenName;\n",
    "  public string GivenName\n",
    "  {\n",
    "      get { return givenName; }\n",
    "      set\n",
    "      {\n",
    "          if (string.IsNullOrEmpty(value))\n",
    "            return;\n",
    "          givenName = value;\n",
    "      }\n",
    "  }\n",
    "  ```\n",
    "  \n",
    "In the following code, ```GivenName``` and ```FamilyName``` are full properties with backing fields. "
   ]
  },
  {
   "cell_type": "code",
   "execution_count": null,
   "metadata": {},
   "outputs": [],
   "source": [
    "public class Person\n",
    "{\n",
    "    private string givenName;\n",
    "    public string GivenName\n",
    "    {\n",
    "        get { return givenName; }\n",
    "        set \n",
    "        {\n",
    "            if (string.IsNullOrEmpty(value))\n",
    "                return;\n",
    "            givenName = value; \n",
    "        }\n",
    "    }\n",
    "    \n",
    "    private string familyName;\n",
    "    public string FamilyName\n",
    "    {\n",
    "        get { return familyName; }\n",
    "        set { familyName = value; }\n",
    "    }\n",
    "\n",
    "    public Person() {} // default constructor (no initialization)\n",
    "    \n",
    "    public Person(string givenName, string familyName)\n",
    "    {\n",
    "        GivenName = givenName;\n",
    "        FamilyName = familyName;\n",
    "    }\n",
    "}"
   ]
  },
  {
   "cell_type": "code",
   "execution_count": null,
   "metadata": {},
   "outputs": [],
   "source": [
    "// using constructor\n",
    "var p = new Person(\"Jeremy\", \"Clark\");\n",
    "Console.WriteLine($\"{p.GivenName} {p.FamilyName}\");"
   ]
  },
  {
   "cell_type": "code",
   "execution_count": null,
   "metadata": {},
   "outputs": [],
   "source": [
    "// using object initializer\n",
    "p = new Person() { GivenName = \"Jeremy\", FamilyName = \"Clark\" };\n",
    "Console.WriteLine($\"{p.GivenName} {p.FamilyName}\");"
   ]
  },
  {
   "cell_type": "code",
   "execution_count": null,
   "metadata": {},
   "outputs": [],
   "source": [
    "// modifying a property\n",
    "p.GivenName = \"John\";\n",
    "Console.WriteLine($\"{p.GivenName} {p.FamilyName}\");"
   ]
  },
  {
   "cell_type": "code",
   "execution_count": null,
   "metadata": {},
   "outputs": [],
   "source": [
    "// setting \"GivenName\" to empty string leaves the value unchanged\n",
    "p.GivenName = \"\";\n",
    "Console.WriteLine($\"{p.GivenName} {p.FamilyName}\");"
   ]
  },
  {
   "cell_type": "markdown",
   "metadata": {},
   "source": [
    "### Expression-based Property\n",
    "\n",
    "Expression-bodied members were added to C# 6 and can be used with properties starting with C# 7.0. This is a shortened format that uses the ```=>``` operator. This is particularly useful with single-line statements or expressions because we can remove braces around the method body.\n",
    "\n",
    "Here are some examples as they apply to properties. The following are equivalent:\n",
    "```c#\n",
    "  private string givenName;\n",
    "  public string GivenName\n",
    "  {\n",
    "      get { return givenName; }\n",
    "      set { givenName = value; }\n",
    "  }\n",
    "```\n",
    "```c#\n",
    "  private string givenName;\n",
    "  public string GivenName\n",
    "  {\n",
    "      get => givenName;\n",
    "      set => givenName = value;\n",
    "  }\n",
    "```\n",
    "\n",
    "The second format uses expression-based getters and setters. For the \"get\", we can eliminate the ```return``` keyword and the surrounding braces. For the \"set\", we can eliminate the braces.\n",
    "\n",
    "In the following code, ```GivenName``` and ```FamilyName``` use expression-based getters and setters. "
   ]
  },
  {
   "cell_type": "code",
   "execution_count": null,
   "metadata": {},
   "outputs": [],
   "source": [
    "public class Person\n",
    "{\n",
    "    private string givenName;\n",
    "    public string GivenName\n",
    "    {\n",
    "        get => givenName;\n",
    "        set => givenName = value;\n",
    "    }\n",
    "    \n",
    "    private string familyName;\n",
    "    public string FamilyName\n",
    "    {\n",
    "        get => familyName;\n",
    "        set => familyName = value;\n",
    "    }\n",
    "    public Person() {} // default constructor (no initialization)\n",
    "    \n",
    "    public Person(string givenName, string familyName)\n",
    "    {\n",
    "        GivenName = givenName;\n",
    "        FamilyName = familyName;\n",
    "    }\n",
    "}"
   ]
  },
  {
   "cell_type": "code",
   "execution_count": null,
   "metadata": {},
   "outputs": [],
   "source": [
    "// using constructor\n",
    "var p = new Person(\"Jeremy\", \"Clark\");\n",
    "Console.WriteLine($\"{p.GivenName} {p.FamilyName}\");"
   ]
  },
  {
   "cell_type": "code",
   "execution_count": null,
   "metadata": {},
   "outputs": [],
   "source": [
    "// using object initializer\n",
    "p = new Person() { GivenName = \"Jeremy\", FamilyName = \"Clark\" };\n",
    "Console.WriteLine($\"{p.GivenName} {p.FamilyName}\");"
   ]
  },
  {
   "cell_type": "code",
   "execution_count": null,
   "metadata": {},
   "outputs": [],
   "source": [
    "// modifying a property\n",
    "p.GivenName = \"John\";\n",
    "Console.WriteLine($\"{p.GivenName} {p.FamilyName}\");"
   ]
  },
  {
   "cell_type": "markdown",
   "metadata": {},
   "source": [
    "### Expression-based Init-only Property\n",
    "\n",
    "We can also use expression-based \"init\" with properties. As above, \"init\" indicates that the property can only be set in the constructor or object initializer. The syntax is the same as using an expression with \"set\".\n",
    "\n",
    "In the following code, ```GivenName``` and ```FamilyName``` are init-only properties that use expressions. "
   ]
  },
  {
   "cell_type": "code",
   "execution_count": null,
   "metadata": {},
   "outputs": [],
   "source": [
    "public class Person\n",
    "{\n",
    "    private string givenName;\n",
    "    public string GivenName\n",
    "    {\n",
    "        get => givenName;\n",
    "        init => givenName = value;\n",
    "    }\n",
    "    \n",
    "    private string familyName;\n",
    "    public string FamilyName\n",
    "    {\n",
    "        get => familyName;\n",
    "        init => familyName = value;\n",
    "    }\n",
    "    public Person() {} // default constructor (no initialization)\n",
    "    \n",
    "    public Person(string givenName, string familyName)\n",
    "    {\n",
    "        GivenName = givenName;\n",
    "        FamilyName = familyName;\n",
    "    }\n",
    "}"
   ]
  },
  {
   "cell_type": "code",
   "execution_count": null,
   "metadata": {},
   "outputs": [],
   "source": [
    "// using constructor\n",
    "var p = new Person(\"Jeremy\", \"Clark\");\n",
    "Console.WriteLine($\"{p.GivenName} {p.FamilyName}\");"
   ]
  },
  {
   "cell_type": "code",
   "execution_count": null,
   "metadata": {},
   "outputs": [],
   "source": [
    "// using object initializer\n",
    "p = new Person() { GivenName = \"Jeremy\", FamilyName = \"Clark\" };\n",
    "Console.WriteLine($\"{p.GivenName} {p.FamilyName}\");"
   ]
  },
  {
   "cell_type": "code",
   "execution_count": null,
   "metadata": {},
   "outputs": [],
   "source": [
    "// modifying a property\n",
    "p.GivenName = \"John\";\n",
    "Console.WriteLine($\"{p.GivenName} {p.FamilyName}\");"
   ]
  },
  {
   "cell_type": "markdown",
   "metadata": {},
   "source": [
    "# Calculated Properties\n",
    "\n",
    "So far, we have seen properties that have an associated value that can be set. But another use for properties is for calculated values. For example, we may have a property that is a total for line items on an order.\n",
    "\n",
    "In the following examples, we have a calulated ```FullName``` property which is a string consisting of the ```GivenName``` property, a space, and the ```FamilyName``` property.\n",
    "\n",
    "Because the property value is calculated from other properties, fields, or methods, calculated properties do not have a setter.\n",
    "\n",
    "As with the properties we saw earlier, there are several different declarations that we can use. This is true of calculated properties as well."
   ]
  },
  {
   "cell_type": "markdown",
   "metadata": {},
   "source": [
    "### Full Getter\n",
    "\n",
    "A calculated property can have a full \"get\" block.\n",
    "\n",
    "This is shown in the ```FullName``` property below."
   ]
  },
  {
   "cell_type": "code",
   "execution_count": null,
   "metadata": {},
   "outputs": [],
   "source": [
    "public class Person\n",
    "{\n",
    "    public string FullName\n",
    "    {\n",
    "        get\n",
    "        {\n",
    "            return $\"{GivenName} {FamilyName}\";\n",
    "        }\n",
    "    }\n",
    "\n",
    "    public string GivenName { get; init; }\n",
    "    public string FamilyName { get; init; }\n",
    "    \n",
    "    public Person() {} // default constructor (no initialization)\n",
    "    \n",
    "    public Person(string givenName, string familyName)\n",
    "    {\n",
    "        GivenName = givenName;\n",
    "        FamilyName = familyName;\n",
    "    }\n",
    "}\n",
    "\n",
    "var p = new Person() { GivenName = \"Jeremy\", FamilyName = \"Clark\" };\n",
    "Console.WriteLine(p.FullName);"
   ]
  },
  {
   "cell_type": "markdown",
   "metadata": {},
   "source": [
    "### Expression Getter\n",
    "\n",
    "In addition, the getter for a calculated property can use an expression.\n",
    "\n",
    "This is shown in the ```FullName``` property below."
   ]
  },
  {
   "cell_type": "code",
   "execution_count": null,
   "metadata": {},
   "outputs": [],
   "source": [
    "public class Person\n",
    "{\n",
    "    public string FullName\n",
    "    {\n",
    "        get => $\"{GivenName} {FamilyName}\";\n",
    "    }\n",
    "\n",
    "    public string GivenName { get; init; }\n",
    "    public string FamilyName { get; init; }\n",
    "    \n",
    "    public Person() {} // default constructor (no initialization)\n",
    "    \n",
    "    public Person(string givenName, string familyName)\n",
    "    {\n",
    "        GivenName = givenName;\n",
    "        FamilyName = familyName;\n",
    "    }\n",
    "}\n",
    "\n",
    "var p = new Person() { GivenName = \"Jeremy\", FamilyName = \"Clark\" };\n",
    "Console.WriteLine(p.FullName);"
   ]
  },
  {
   "cell_type": "markdown",
   "metadata": {},
   "source": [
    "### Expression Property\n",
    "\n",
    "Finally, as a special case for caluclated properties, we can eliminate the \"get\" completely and put the expression the property itself.\n",
    "\n",
    "The following properties are equivalent:\n",
    "```c#\n",
    "    public string FullName\n",
    "    {\n",
    "        get => $\"{GivenName} {FamilyName}\";\n",
    "    }\n",
    "```\n",
    "```c#\n",
    "    public string FullName => $\"{GivenName} {FamilyName}\";\n",
    "```\n",
    "\n",
    "The second form lets us put the ```=>``` operator directly after the property name. The braces around the \"get\" as well as the \"get\" keyword are removed. This is a very terse syntax that can be used for calculated properties.\n",
    "\n",
    "This is shown in the ```FullName``` property below."
   ]
  },
  {
   "cell_type": "code",
   "execution_count": null,
   "metadata": {},
   "outputs": [],
   "source": [
    "public class Person\n",
    "{\n",
    "    public string FullName => $\"{GivenName} {FamilyName}\";\n",
    "\n",
    "    public string GivenName { get; init; }\n",
    "    public string FamilyName { get; init; }\n",
    "    \n",
    "    public Person() {} // default constructor (no initialization)\n",
    "    \n",
    "    public Person(string givenName, string familyName)\n",
    "    {\n",
    "        GivenName = givenName;\n",
    "        FamilyName = familyName;\n",
    "    }\n",
    "}\n",
    "\n",
    "var p = new Person() { GivenName = \"Jeremy\", FamilyName = \"Clark\" };\n",
    "Console.WriteLine(p.FullName);"
   ]
  },
  {
   "cell_type": "markdown",
   "metadata": {},
   "source": [
    "### Wrap Up\n",
    "As we have seen, there are a number of different ways to declare properties. You can pick the format that best works for you when it comes to readability for your team. I would highly recommend that you do not mix-and-match the formats (for example, mixing expression-based and non-expression-based syntaxes as this gives your brain a bit more to think about when looking at the code.\n",
    "\n",
    "For more information on properties, be sure to look at the \"Properties\" topic in the C# Programming Guide: [https://docs.microsoft.com/en-us/dotnet/csharp/programming-guide/classes-and-structs/properties](https://docs.microsoft.com/en-us/dotnet/csharp/programming-guide/classes-and-structs/properties)."
   ]
  }
 ],
 "metadata": {
  "kernelspec": {
   "display_name": ".NET (C#)",
   "language": "C#",
   "name": ".net-csharp"
  },
  "language_info": {
   "file_extension": ".cs",
   "mimetype": "text/x-csharp",
   "name": "C#",
   "pygments_lexer": "csharp",
   "version": "8.0"
  }
 },
 "nbformat": 4,
 "nbformat_minor": 4
}

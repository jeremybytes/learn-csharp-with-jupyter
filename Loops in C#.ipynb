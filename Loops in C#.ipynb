{
 "cells": [
  {
   "cell_type": "markdown",
   "metadata": {},
   "source": [
    "# Loops in C#\n",
    "\n",
    "This notebook takes a look at the various types of loops in C#, including \"for\", \"foreach\", \"while\" and \"do/while\". The sample code will show us how to run loops, skip iterations, and exit loops before they complete.  \n",
    "\n",
    "Feel free to experiment with the code."
   ]
  },
  {
   "cell_type": "markdown",
   "metadata": {},
   "source": [
    "## for Loop\n",
    "\n",
    "A \"for\" loop lets us repeat an action a certain number of times based on an index.  \n",
    "\n",
    "```c#\n",
    "  for ([intializer]; [condition]; [incrementer])\n",
    "  {\n",
    "      [action]\n",
    "  }\n",
    "```\n",
    "\n",
    "Here is a common format:\n",
    "\n",
    "```c#\n",
    "  for (int i = 0; i < maxValue; i++)\n",
    "  {\n",
    "      Console.WriteLine($\"Value is {i}\");\n",
    "  }\n",
    "```\n",
    "\n",
    "For the [initializer], an integer variable \"i\" is declared and set to \"0\".  \n",
    "For the [condition], the loop will continue as long as the indexer \"i\" is less than \"maxValue\".  \n",
    "For the [incrementer], ```i++``` is the same as ```i = i + 1```, meaning it adds \"1\" to the index value.  \n",
    "For the [action], a string is printed.\n",
    "\n",
    "The code below shows a \"for\" loop that prints out the items in an array."
   ]
  },
  {
   "cell_type": "code",
   "execution_count": null,
   "metadata": {},
   "outputs": [],
   "source": [
    "var days = new string[] { \"Sunday\", \"Monday\", \"Tuesday\", \"Wednesday\", \"Thursday\", \"Friday\", \"Saturday\" };\n",
    "\n",
    "for (int i = 0; i < days.Count(); i++)\n",
    "{\n",
    "    Console.WriteLine(days[i]);\n",
    "}"
   ]
  },
  {
   "cell_type": "markdown",
   "metadata": {},
   "source": [
    "## Reverse for Loops\n",
    "\n",
    "Although it is most common to start indexes at 0 and add 1 each time. You can put whatever initial state and conditions that you want.\n",
    "\n",
    "The following code starts with the last value, subtracts 1 each time through the loop, and prints the days of the week in reverse order.\n",
    "\n",
    "Note: ```i--``` is the same as ```i = i - 1```."
   ]
  },
  {
   "cell_type": "code",
   "execution_count": null,
   "metadata": {},
   "outputs": [],
   "source": [
    "var days = new string[] { \"Sunday\", \"Monday\", \"Tuesday\", \"Wednesday\", \"Thursday\", \"Friday\", \"Saturday\" };\n",
    "\n",
    "for (int i = days.Count()-1; i >= 0; i--)\n",
    "{\n",
    "    Console.WriteLine(days[i]);\n",
    "}"
   ]
  },
  {
   "cell_type": "markdown",
   "metadata": {},
   "source": [
    "## continue\n",
    "\n",
    "The \"continue\" statement ends the current iteration of the loop, and the loop continues. This is a way to short-circuit the current action without completely exiting the loop.  \n",
    "\n",
    "The remainder operator \"%\" can be used to get the remainder of a division calculation.\n",
    "\n",
    "Examples:  \n",
    "```\n",
    "  10 % 2 = 0 // 10 divided by 2 = 5 with no remainder (0).\n",
    "  11 % 3 = 2 // 11 divided by 3 = 3 with a remainder of 2.\n",
    "  5 % 4 = 1  // 5 divided by 4 = 1 with a remainder of 1.\n",
    "```\n",
    "\n",
    "In the following code, the remainder operator is used to determine if a number is even or odd (i.e., divisible by 2). If the number is even, then the loop \"continues\" to the next value. Only odd numbers are printed."
   ]
  },
  {
   "cell_type": "code",
   "execution_count": null,
   "metadata": {},
   "outputs": [],
   "source": [
    "for (int i = 1; i <= 20; i++)\n",
    "{\n",
    "    if (i % 2 == 0)\n",
    "    {\n",
    "        continue;\n",
    "    }\n",
    "    Console.WriteLine(i);\n",
    "}"
   ]
  },
  {
   "cell_type": "markdown",
   "metadata": {},
   "source": [
    "## Different Increment Values\n",
    "\n",
    "Another way of writing out odd numbers is to change the incrementer so that 2 is added to the index each time.\n",
    "\n",
    "```i += 2``` is a shorthand way to add \"2\" to the index value. This is the same as ```i = i + 2```."
   ]
  },
  {
   "cell_type": "code",
   "execution_count": null,
   "metadata": {},
   "outputs": [],
   "source": [
    "for (int i = 1; i <= 20; i += 2)\n",
    "{\n",
    "    Console.WriteLine(i);\n",
    "}"
   ]
  },
  {
   "cell_type": "markdown",
   "metadata": {},
   "source": [
    "## break\n",
    "\n",
    "The \"break\" statement exits completely out of a loop without completing the current action. This can be used to exit a loop early.  \n",
    "\n",
    "The following code stops when the index value gets to 12;"
   ]
  },
  {
   "cell_type": "code",
   "execution_count": null,
   "metadata": {},
   "outputs": [],
   "source": [
    "for (int i = 1; i < 100; i++)\n",
    "{\n",
    "    if (i == 12)\n",
    "    {\n",
    "        break;\n",
    "    }\n",
    "    Console.WriteLine(i);\n",
    "}"
   ]
  },
  {
   "cell_type": "markdown",
   "metadata": {},
   "source": [
    "## foreach Loop\n",
    "\n",
    "The \"foreach\" loop lets us pull the items out of a collection one at a time.\n",
    "\n",
    "```c#\n",
    "  foreach([type][item] in [items])\n",
    "  {\n",
    "      [action]\n",
    "  }\n",
    "```\n",
    "\n",
    "Here is an example:  \n",
    "\n",
    "```c#\n",
    "  var days = new string[] { \"Sunday\", \"Monday\", \"Tuesday\", \"Wednesday\", \"Thursday\", \"Friday\", \"Saturday\" };\n",
    "\n",
    "  foreach(string day in days)\n",
    "  {\n",
    "      Console.WriteLine(day);\n",
    "  }\n",
    "```\n",
    "\n",
    "This loop uses the \"days\" array -- an array of strings that contains the days of the week.  \n",
    "```string day``` is a variable that holds a single element from the array.  \n",
    "\n",
    "The loop continues until it reaches the end of the collection.\n",
    "\n",
    "You can see this in action by running the code below:"
   ]
  },
  {
   "cell_type": "code",
   "execution_count": null,
   "metadata": {},
   "outputs": [],
   "source": [
    "var days = new string[] { \"Sunday\", \"Monday\", \"Tuesday\", \"Wednesday\", \"Thursday\", \"Friday\", \"Saturday\" };\n",
    "\n",
    "foreach(string day in days)\n",
    "{\n",
    "    Console.WriteLine(day);\n",
    "}"
   ]
  },
  {
   "cell_type": "markdown",
   "metadata": {},
   "source": [
    "## while Loop\n",
    "\n",
    "A \"while\" loop continues until a condition is false.  \n",
    "\n",
    "The code below keeps looping as long as the variable \"i\" is less than the number of items in the \"days\" array.\n",
    "\n",
    "Note: this loop works the same way as the first \"for\" loop that we saw above. The difference is that the \"i\" variable is initialized before the loop, and the \"i\" variable in incremented inside the body of the loop."
   ]
  },
  {
   "cell_type": "code",
   "execution_count": null,
   "metadata": {},
   "outputs": [],
   "source": [
    "var days = new string[] { \"Sunday\", \"Monday\", \"Tuesday\", \"Wednesday\", \"Thursday\", \"Friday\", \"Saturday\" };\n",
    "\n",
    "int i = 0;\n",
    "while (i < days.Count())\n",
    "{\n",
    "    Console.WriteLine(days[i]);\n",
    "    i++;\n",
    "}"
   ]
  },
  {
   "cell_type": "markdown",
   "metadata": {},
   "source": [
    "## Endless Loops\n",
    "\n",
    "A \"while\" loop with a \"true\" condition will keep running forever. This can be useful -- when used with the \"break\" statement -- when an external factor determines whether a loop should continue."
   ]
  },
  {
   "cell_type": "code",
   "execution_count": null,
   "metadata": {},
   "outputs": [],
   "source": [
    "var days = new string[] { \"Sunday\", \"Monday\", \"Tuesday\", \"Wednesday\", \"Thursday\", \"Friday\", \"Saturday\" };\n",
    "\n",
    "bool stopCounting(int value)\n",
    "{\n",
    "    return value >= days.Count();\n",
    "}\n",
    "\n",
    "int i = 0;\n",
    "while (true)\n",
    "{\n",
    "    if (stopCounting(i))\n",
    "    {\n",
    "        break;\n",
    "    }\n",
    "    Console.WriteLine(days[i]);\n",
    "    i++;\n",
    "}"
   ]
  },
  {
   "cell_type": "markdown",
   "metadata": {},
   "source": [
    "## while May Not Run\n",
    "\n",
    "If the initial condition of a \"while\" loop is false, then the body of the loop will never run.\n",
    "\n",
    "In the following code, nothing will print. In fact, the compiler will give us a warning that we cannot get to the printing code."
   ]
  },
  {
   "cell_type": "code",
   "execution_count": null,
   "metadata": {},
   "outputs": [],
   "source": [
    "var days = new string[] { \"Sunday\", \"Monday\", \"Tuesday\", \"Wednesday\", \"Thursday\", \"Friday\", \"Saturday\" };\n",
    "\n",
    "int i = 0;\n",
    "while (false)\n",
    "{\n",
    "    Console.WriteLine(days[i]);\n",
    "}"
   ]
  },
  {
   "cell_type": "markdown",
   "metadata": {},
   "source": [
    "## do / while Loop\n",
    "\n",
    "A do/while loop checks the condition at the end of the loop. This means that the loop will run at least one time.\n",
    "\n",
    "The following code has a \"false\" condition that will stop the loop. But since it is checked at the end, the first item will print."
   ]
  },
  {
   "cell_type": "code",
   "execution_count": null,
   "metadata": {},
   "outputs": [],
   "source": [
    "var days = new string[] { \"Sunday\", \"Monday\", \"Tuesday\", \"Wednesday\", \"Thursday\", \"Friday\", \"Saturday\" };\n",
    "\n",
    "int i = 0;\n",
    "do\n",
    "{\n",
    "    Console.WriteLine(days[i]);\n",
    "} while(false);"
   ]
  }
 ],
 "metadata": {
  "kernelspec": {
   "display_name": ".NET (C#)",
   "language": "C#",
   "name": ".net-csharp"
  },
  "language_info": {
   "file_extension": ".cs",
   "mimetype": "text/x-csharp",
   "name": "C#",
   "pygments_lexer": "csharp",
   "version": "8.0"
  }
 },
 "nbformat": 4,
 "nbformat_minor": 4
}
